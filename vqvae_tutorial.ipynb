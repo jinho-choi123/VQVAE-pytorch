{
 "cells": [
  {
   "cell_type": "code",
   "execution_count": 1,
   "id": "b0c5acdc-f7a6-49ab-9139-712b38865b95",
   "metadata": {},
   "outputs": [],
   "source": [
    "# import packages \n",
    "import torch \n",
    "import torch.nn as nn \n",
    "import torch.nn.functional as F \n",
    "from torch.utils.data import DataLoader \n",
    "import torch.optim as optim\n",
    "\n",
    "import torchvision.datasets as datasets \n",
    "import torchvision.transforms as transforms\n",
    "from torchvision.utils import make_grid \n",
    "\n",
    "import matplotlib.pyplot as plt \n",
    "import numpy as np \n",
    "from scipy.signal import savgol_filter\n",
    "\n",
    "from six.moves import xrange \n",
    "\n",
    "import umap \n",
    "from tqdm import tqdm\n"
   ]
  },
  {
   "cell_type": "code",
   "execution_count": 2,
   "id": "47de0f40-1aa7-4d76-997c-93f6a720fed5",
   "metadata": {},
   "outputs": [
    {
     "name": "stdout",
     "output_type": "stream",
     "text": [
      "Using MPS as device\n"
     ]
    }
   ],
   "source": [
    "# configuration \n",
    "\n",
    "if torch.cuda.is_available():\n",
    "    device = torch.device(\"cuda\")\n",
    "    print(\"Using CUDA as device\")\n",
    "else:\n",
    "    # Check that MPS is available\n",
    "    if not torch.backends.mps.is_available():\n",
    "        if not torch.backends.mps.is_built():\n",
    "            print(\"MPS not available because the current PyTorch install was not \"\n",
    "                  \"built with MPS enabled.\")\n",
    "        else:\n",
    "            print(\"MPS not available because the current MacOS version is not 12.3+ \"\n",
    "                  \"and/or you do not have an MPS-enabled device on this machine.\")\n",
    "        device = torch.device(\"cpu\")\n",
    "        print(\"Using CPU as device\")\n",
    "    else:\n",
    "        device = torch.device(\"mps\")\n",
    "        print(\"Using MPS as device\")\n",
    "    \n",
    "torch.set_default_device(device)"
   ]
  },
  {
   "cell_type": "code",
   "execution_count": 3,
   "id": "83284f40-6e49-4f11-a9a3-fca5a7cca95e",
   "metadata": {},
   "outputs": [
    {
     "name": "stdout",
     "output_type": "stream",
     "text": [
      "Files already downloaded and verified\n",
      "Files already downloaded and verified\n"
     ]
    }
   ],
   "source": [
    "# load data \n",
    "data_transform = transforms.Compose([\n",
    "    transforms.ToTensor(),\n",
    "    transforms.Normalize((0.5, 0.5, 0.5), (1.0, 1.0, 1.0))\n",
    "])\n",
    "\n",
    "train_data = datasets.CIFAR10(root=\"data\", train=True, download=True, transform=data_transform)\n",
    "data_variance = np.var(train_data.data / 255.0)\n",
    "\n",
    "test_data = datasets.CIFAR10(root=\"data\", train=False, download=True, transform=data_transform)"
   ]
  },
  {
   "cell_type": "code",
   "execution_count": 4,
   "id": "1920bfcb-4700-4a26-9846-bad46f28c708",
   "metadata": {},
   "outputs": [],
   "source": [
    "# make a Vector Quantizer Layer \n",
    "\n",
    "class VectorQuantizer(nn.Module):\n",
    "    def __init__(self, num_embeddings, embedding_dim, commitment_cost):\n",
    "        super(VectorQuantizer, self).__init__()\n",
    "        self.embedding_dim = embedding_dim\n",
    "        self.num_embeddings = num_embeddings\n",
    "\n",
    "        self.embeddings = nn.Embedding(self.num_embeddings, self.embedding_dim)\n",
    "        self.embeddings.weight.data.uniform_(-1/self.num_embeddings, 1/self.num_embeddings)\n",
    "        self.commitment_cost = commitment_cost\n",
    "\n",
    "\n",
    "    def forward(self, inputs):\n",
    "        # convert inputs from BCHW -> BHWC \n",
    "        inputs = inputs.permute(0, 2, 3, 1).contiguous() \n",
    "        input_shape = inputs.shape\n",
    "\n",
    "        # Flatten the input \n",
    "        flat_inputs = inputs.view(-1, self.embedding_dim)\n",
    "\n",
    "        # calculate the distance between input and all the embeddings \n",
    "        distances = (torch.sum(flat_inputs**2, dim=1, keepdim=True) \n",
    "                     + torch.sum(self.embeddings.weight **2, dim=1)\n",
    "                     - 2 * torch.matmul(flat_inputs, self.embeddings.weight.t()))\n",
    "\n",
    "        # get embedding vectors \n",
    "        embedding_indices = torch.argmin(distances, dim=1).unsqueeze(1)\n",
    "        embeddings = torch.zeros(embedding_indices.shape[0], self.num_embeddings, device=device)\n",
    "        embeddings.scatter_(1, embedding_indices, 1)\n",
    "\n",
    "        # quantize and unflatten \n",
    "        quantized = torch.matmul(embeddings, self.embeddings.weight).view(input_shape)\n",
    "\n",
    "        # loss \n",
    "        e_latent_loss = F.mse_loss(quantized.detach(), inputs)\n",
    "        q_latent_loss = F.mse_loss(quantized, inputs.detach())\n",
    "        loss = q_latent_loss + self.commitment_cost * e_latent_loss\n",
    "\n",
    "        # reconstruction loss will be added later, because we cannot calculate without decoder\n",
    "        \n",
    "        quantized = inputs + (quantized - inputs).detach()\n",
    "        avg_probs = torch.mean(embeddings, dim=0)\n",
    "        perplexity = torch.exp(-torch.sum(avg_probs * torch.log(avg_probs + 1e-10)))\n",
    "\n",
    "        return loss, quantized.permute(0, 3, 1, 2).contiguous(), perplexity, embeddings        "
   ]
  },
  {
   "cell_type": "code",
   "execution_count": 5,
   "id": "2c8bea4e-540c-4517-b363-86d405435ee0",
   "metadata": {},
   "outputs": [],
   "source": [
    "# define residual block that is going to be used in encoder and decoder \n",
    "class ResCNNBlock(nn.Module): \n",
    "    def __init__(self, in_channels):\n",
    "        super(ResCNNBlock, self).__init__()\n",
    "        self._block = nn.Sequential(\n",
    "            nn.Conv2d(in_channels = in_channels, \n",
    "                      out_channels= in_channels, \n",
    "                      kernel_size = 3, \n",
    "                      stride = 1, \n",
    "                    padding = 1, \n",
    "                    bias = False),\n",
    "            nn.ReLU(True)\n",
    "        )\n",
    "    def forward(self, x): \n",
    "        return x + self._block(x)"
   ]
  },
  {
   "cell_type": "code",
   "execution_count": 6,
   "id": "17462810-e8da-4ee1-809b-085706e5fe94",
   "metadata": {},
   "outputs": [],
   "source": [
    "class Encoder(nn.Module): \n",
    "    def __init__(self, in_channels, num_hiddens):\n",
    "        super(Encoder, self).__init__()\n",
    "        self.norm1 = nn.BatchNorm2d(in_channels)\n",
    "        self.conv1 = nn.Conv2d(in_channels=in_channels, out_channels=num_hiddens//2, kernel_size=4, stride=2, padding=1)\n",
    "        self.norm2 = nn.BatchNorm2d(num_hiddens // 2)\n",
    "        self.conv2 = nn.Conv2d(in_channels=num_hiddens//2, out_channels=num_hiddens, kernel_size=4, stride=2, padding=1)\n",
    "        self.norm3 = nn.BatchNorm2d(num_hiddens)\n",
    "        self.res1 = ResCNNBlock(num_hiddens)\n",
    "        self.norm4 = nn.BatchNorm2d(num_hiddens)\n",
    "        self.res2 = ResCNNBlock(num_hiddens)\n",
    "        self.norm5 = nn.BatchNorm2d(num_hiddens)\n",
    "        self.res3 = ResCNNBlock(num_hiddens)\n",
    "        self.norm6 = nn.BatchNorm2d(num_hiddens)\n",
    "        self.res4 = ResCNNBlock(num_hiddens)\n",
    "        self.norm7 = nn.BatchNorm2d(num_hiddens)\n",
    "\n",
    "    def forward(self, inputs):\n",
    "        x = self.norm1(inputs)\n",
    "        x = self.conv1(x)\n",
    "        x = F.relu(x)\n",
    "        x = self.norm2(x)\n",
    "\n",
    "        x = self.conv2(x)\n",
    "        x = F.relu(x)\n",
    "        x = self.norm3(x)\n",
    "\n",
    "        x = self.res1(x)\n",
    "        x = self.norm4(x)\n",
    "        x = self.res2(x)\n",
    "        x = self.norm5(x)\n",
    "        x = self.res3(x)\n",
    "        x = self.norm6(x)\n",
    "        x = self.res4(x)\n",
    "        x = self.norm7(x)\n",
    "        return x "
   ]
  },
  {
   "cell_type": "code",
   "execution_count": 7,
   "id": "8acf4877-7ec8-4e6f-8c0f-60fa442572d4",
   "metadata": {},
   "outputs": [],
   "source": [
    "class Decoder(nn.Module):\n",
    "    def __init__(self, in_channels, num_hiddens):\n",
    "        super(Decoder, self).__init__()\n",
    "\n",
    "        self.norm1 = nn.BatchNorm2d(in_channels)\n",
    "\n",
    "        self.conv1 = nn.Conv2d(in_channels=in_channels,\n",
    "                                 out_channels=num_hiddens,\n",
    "                                 kernel_size=3, \n",
    "                                 stride=1, padding=1)\n",
    "        self.norm2 = nn.BatchNorm2d(num_hiddens)\n",
    "\n",
    "        self.res1 = ResCNNBlock(num_hiddens)\n",
    "        self.norm3 = nn.BatchNorm2d(num_hiddens)\n",
    "        self.res2 = ResCNNBlock(num_hiddens)\n",
    "        self.norm4 = nn.BatchNorm2d(num_hiddens)\n",
    "        self.res3 = ResCNNBlock(num_hiddens)\n",
    "        self.norm5 = nn.BatchNorm2d(num_hiddens)\n",
    "\n",
    "        self.conv_trans1 = nn.ConvTranspose2d(in_channels=num_hiddens, out_channels=num_hiddens //2, kernel_size=4, stride=2, padding=1)\n",
    "        self.norm6 = nn.BatchNorm2d(num_hiddens // 2)\n",
    "        self.conv_trans2 = nn.ConvTranspose2d(in_channels=num_hiddens//2, out_channels=3, kernel_size=4, stride=2, padding=1)\n",
    "\n",
    "    def forward(self, inputs):\n",
    "        x = self.norm1(inputs)\n",
    "        x = self.conv1(x)\n",
    "        x = F.relu(x) \n",
    "        x = self.norm2(x)\n",
    "        \n",
    "        x = self.res1(x)\n",
    "        x = self.norm3(x)\n",
    "        x = self.res2(x)\n",
    "        x = self.norm4(x)\n",
    "        x = self.res3(x)\n",
    "        x = self.norm5(x)\n",
    "\n",
    "        x = self.conv_trans1(x)\n",
    "        x = F.relu(x) \n",
    "        x = self.norm6(x)\n",
    "        x = self.conv_trans2(x)\n",
    "        \n",
    "        return x \n",
    "        "
   ]
  },
  {
   "cell_type": "code",
   "execution_count": 8,
   "id": "6f833d77-73d0-48ac-ae60-efdbf5de9173",
   "metadata": {},
   "outputs": [],
   "source": [
    "# define train configurations \n",
    "batch_size = 256 \n",
    "epochs = 100\n",
    "num_hiddens = 128 \n",
    "num_residual_hiddens = 32 \n",
    "\n",
    "embedding_dims = 64 \n",
    "num_embeddings = 512 \n",
    "\n",
    "commitment_cost = 0.25 \n",
    "\n",
    "init_lr = 1e-3"
   ]
  },
  {
   "cell_type": "code",
   "execution_count": 24,
   "id": "7b94edae-92cc-49d8-899d-c891467792e1",
   "metadata": {},
   "outputs": [],
   "source": [
    "# define data loaders \n",
    "train_loader = DataLoader(train_data, batch_size=batch_size, shuffle=True, pin_memory=True, generator= torch.Generator(device=device))\n",
    "test_loader = DataLoader(test_data, batch_size=32, shuffle=False, pin_memory=True, generator= torch.Generator(device=device))"
   ]
  },
  {
   "cell_type": "code",
   "execution_count": 10,
   "id": "cfebfdd8-f066-42be-840c-dc5ac3f0b0a9",
   "metadata": {},
   "outputs": [],
   "source": [
    "# Define a model to train \n",
    "class Model(nn.Module): \n",
    "    def __init__(self,in_channels, num_hiddens, num_embeddings, embedding_dims, commitment_cost): \n",
    "        super(Model, self).__init__()\n",
    "\n",
    "        self.encoder = Encoder(in_channels, num_hiddens)\n",
    "        self.pre_vq_conv = nn.Conv2d(in_channels=num_hiddens, out_channels=embedding_dims, kernel_size=1, stride=1)\n",
    "\n",
    "        self.vq_vae = VectorQuantizer(num_embeddings, embedding_dims, commitment_cost)\n",
    "\n",
    "        self.decoder = Decoder(embedding_dims, num_hiddens)\n",
    "\n",
    "    def forward(self, x): \n",
    "        z = self.encoder(x) \n",
    "        z = self.pre_vq_conv(z) \n",
    "\n",
    "        loss, quantized, perplexity, _ = self.vq_vae(z)\n",
    "\n",
    "        x_recon = self.decoder(quantized)\n",
    "\n",
    "        return loss, x_recon, perplexity"
   ]
  },
  {
   "cell_type": "code",
   "execution_count": 11,
   "id": "b97e1f8e-f1c9-4130-8a56-200f60981a91",
   "metadata": {},
   "outputs": [],
   "source": [
    "model = Model(3, num_hiddens, num_embeddings, embedding_dims, commitment_cost)\n",
    "\n",
    "# load model if possible"
   ]
  },
  {
   "cell_type": "code",
   "execution_count": 12,
   "id": "1f085101-e64f-43d2-8909-7b91859fa1a7",
   "metadata": {},
   "outputs": [],
   "source": [
    "optimizer = optim.Adam(model.parameters(), lr=init_lr)"
   ]
  },
  {
   "cell_type": "code",
   "execution_count": 13,
   "id": "7eab5e88-fc0a-4008-aae4-77506ede91df",
   "metadata": {},
   "outputs": [],
   "source": [
    "global_recon_errs = [] \n",
    "global_perplexities = []\n",
    "\n",
    "# define a function that trains one epoch \n",
    "def train_epoch(epoch_idx, tb_writer): \n",
    "    epoch_recon_errs = [] \n",
    "    epoch_perplexities = [] \n",
    "\n",
    "    for batch_idx, (data, _) in enumerate(train_loader): \n",
    "        x = data.to(device)\n",
    "\n",
    "        optimizer.zero_grad()\n",
    "\n",
    "        vq_loss, data_recon, perplexity = model(x)\n",
    "        recon_err = F.mse_loss(data_recon, x) / data_variance\n",
    "\n",
    "        loss = recon_err + vq_loss \n",
    "\n",
    "        loss.backward()\n",
    "        optimizer.step()\n",
    "\n",
    "        epoch_recon_errs.append(recon_err.item())\n",
    "        epoch_perplexities.append(perplexity.item())\n",
    "        \n",
    "        global_recon_errs.append(recon_err.item())\n",
    "        global_perplexities.append(perplexity.item())\n",
    "        \n",
    "    print(f'EPOCH {epoch_idx}: ')\n",
    "    print(f'recon_err: {np.mean(epoch_recon_errs)}')\n",
    "    print(f'perlexity: {np.mean(epoch_perplexities)}')\n",
    "    print()\n",
    "    return loss.item()"
   ]
  },
  {
   "cell_type": "code",
   "execution_count": 14,
   "id": "4826173b-dd38-4f3d-9b1f-fc0fefccb55d",
   "metadata": {
    "scrolled": true
   },
   "outputs": [
    {
     "name": "stdout",
     "output_type": "stream",
     "text": [
      "EPOCH 1: \n",
      "recon_err: 0.9570645977343831\n",
      "perlexity: 15.949801785605294\n",
      "\n"
     ]
    },
    {
     "name": "stderr",
     "output_type": "stream",
     "text": [
      "100%|███████████████████████████████████████████| 40/40 [00:02<00:00, 15.72it/s]\n"
     ]
    },
    {
     "name": "stdout",
     "output_type": "stream",
     "text": [
      "Loss train 1.5041604042053223 valid 1.0776935249567032\n",
      "EPOCH 2: \n",
      "recon_err: 0.32045506153787884\n",
      "perlexity: 9.774149894714355\n",
      "\n"
     ]
    },
    {
     "name": "stderr",
     "output_type": "stream",
     "text": [
      "100%|███████████████████████████████████████████| 40/40 [00:02<00:00, 16.27it/s]\n"
     ]
    },
    {
     "name": "stdout",
     "output_type": "stream",
     "text": [
      "Loss train 1.1569398641586304 valid 0.7867200389504433\n",
      "EPOCH 3: \n",
      "recon_err: 0.2911154784414233\n",
      "perlexity: 9.948869213765981\n",
      "\n"
     ]
    },
    {
     "name": "stderr",
     "output_type": "stream",
     "text": [
      "100%|███████████████████████████████████████████| 40/40 [00:02<00:00, 16.24it/s]\n"
     ]
    },
    {
     "name": "stdout",
     "output_type": "stream",
     "text": [
      "Loss train 0.9018117785453796 valid 0.49409345611929895\n",
      "EPOCH 4: \n",
      "recon_err: 0.3351536817392524\n",
      "perlexity: 10.335361329876648\n",
      "\n"
     ]
    },
    {
     "name": "stderr",
     "output_type": "stream",
     "text": [
      "100%|███████████████████████████████████████████| 40/40 [00:02<00:00, 16.18it/s]\n"
     ]
    },
    {
     "name": "stdout",
     "output_type": "stream",
     "text": [
      "Loss train 0.8348751068115234 valid 0.6427596554160118\n",
      "EPOCH 5: \n",
      "recon_err: 0.26724611488836153\n",
      "perlexity: 11.889297100962425\n",
      "\n"
     ]
    },
    {
     "name": "stderr",
     "output_type": "stream",
     "text": [
      "100%|███████████████████████████████████████████| 40/40 [00:02<00:00, 16.21it/s]\n"
     ]
    },
    {
     "name": "stdout",
     "output_type": "stream",
     "text": [
      "Loss train 0.6656333208084106 valid 0.46177504435181616\n",
      "EPOCH 6: \n",
      "recon_err: 0.24289086476272467\n",
      "perlexity: 13.524444336793861\n",
      "\n"
     ]
    },
    {
     "name": "stderr",
     "output_type": "stream",
     "text": [
      "100%|███████████████████████████████████████████| 40/40 [00:02<00:00, 16.15it/s]\n"
     ]
    },
    {
     "name": "stdout",
     "output_type": "stream",
     "text": [
      "Loss train 0.6201267242431641 valid 0.39501301050186155\n",
      "EPOCH 7: \n",
      "recon_err: 0.22564176082306978\n",
      "perlexity: 15.703975735878458\n",
      "\n"
     ]
    },
    {
     "name": "stderr",
     "output_type": "stream",
     "text": [
      "100%|███████████████████████████████████████████| 40/40 [00:02<00:00, 16.19it/s]\n"
     ]
    },
    {
     "name": "stdout",
     "output_type": "stream",
     "text": [
      "Loss train 0.5808461308479309 valid 0.335800152271986\n",
      "EPOCH 8: \n",
      "recon_err: 0.21279087700710006\n",
      "perlexity: 17.09585679307276\n",
      "\n"
     ]
    },
    {
     "name": "stderr",
     "output_type": "stream",
     "text": [
      "100%|███████████████████████████████████████████| 40/40 [00:02<00:00, 16.17it/s]\n"
     ]
    },
    {
     "name": "stdout",
     "output_type": "stream",
     "text": [
      "Loss train 0.5338718891143799 valid 0.30711665824055673\n",
      "EPOCH 9: \n",
      "recon_err: 0.20373666712215968\n",
      "perlexity: 17.940878654012874\n",
      "\n"
     ]
    },
    {
     "name": "stderr",
     "output_type": "stream",
     "text": [
      "100%|███████████████████████████████████████████| 40/40 [00:02<00:00, 16.16it/s]\n"
     ]
    },
    {
     "name": "stdout",
     "output_type": "stream",
     "text": [
      "Loss train 0.478498250246048 valid 0.28282019942998887\n",
      "EPOCH 10: \n",
      "recon_err: 0.19400449941048817\n",
      "perlexity: 19.12622513089861\n",
      "\n"
     ]
    },
    {
     "name": "stderr",
     "output_type": "stream",
     "text": [
      "100%|███████████████████████████████████████████| 40/40 [00:02<00:00, 16.18it/s]\n"
     ]
    },
    {
     "name": "stdout",
     "output_type": "stream",
     "text": [
      "Loss train 0.4685409367084503 valid 0.27049124911427497\n",
      "EPOCH 11: \n",
      "recon_err: 0.1870599771488686\n",
      "perlexity: 20.206524430489054\n",
      "\n"
     ]
    },
    {
     "name": "stderr",
     "output_type": "stream",
     "text": [
      "100%|███████████████████████████████████████████| 40/40 [00:02<00:00, 16.18it/s]\n"
     ]
    },
    {
     "name": "stdout",
     "output_type": "stream",
     "text": [
      "Loss train 0.44394415616989136 valid 0.251292672380805\n",
      "EPOCH 12: \n",
      "recon_err: 0.17768078320184533\n",
      "perlexity: 21.15639622357427\n",
      "\n"
     ]
    },
    {
     "name": "stderr",
     "output_type": "stream",
     "text": [
      "100%|███████████████████████████████████████████| 40/40 [00:02<00:00, 16.18it/s]\n"
     ]
    },
    {
     "name": "stdout",
     "output_type": "stream",
     "text": [
      "Loss train 0.4186055362224579 valid 0.24224801249802114\n",
      "EPOCH 13: \n",
      "recon_err: 0.17110526204413298\n",
      "perlexity: 22.222815591461803\n",
      "\n"
     ]
    },
    {
     "name": "stderr",
     "output_type": "stream",
     "text": [
      "100%|███████████████████████████████████████████| 40/40 [00:02<00:00, 16.15it/s]\n"
     ]
    },
    {
     "name": "stdout",
     "output_type": "stream",
     "text": [
      "Loss train 0.39890581369400024 valid 0.22806486301124096\n",
      "EPOCH 14: \n",
      "recon_err: 0.1647025259325699\n",
      "perlexity: 23.64631972020986\n",
      "\n"
     ]
    },
    {
     "name": "stderr",
     "output_type": "stream",
     "text": [
      "100%|███████████████████████████████████████████| 40/40 [00:02<00:00, 16.18it/s]\n"
     ]
    },
    {
     "name": "stdout",
     "output_type": "stream",
     "text": [
      "Loss train 0.36350017786026 valid 0.22070851176977158\n",
      "EPOCH 15: \n",
      "recon_err: 0.15758774330725475\n",
      "perlexity: 24.775691810919312\n",
      "\n"
     ]
    },
    {
     "name": "stderr",
     "output_type": "stream",
     "text": [
      "100%|███████████████████████████████████████████| 40/40 [00:02<00:00, 16.18it/s]\n"
     ]
    },
    {
     "name": "stdout",
     "output_type": "stream",
     "text": [
      "Loss train 0.3729883134365082 valid 0.21381410919129848\n",
      "EPOCH 16: \n",
      "recon_err: 0.14933755841790414\n",
      "perlexity: 25.926562153563207\n",
      "\n"
     ]
    },
    {
     "name": "stderr",
     "output_type": "stream",
     "text": [
      "100%|███████████████████████████████████████████| 40/40 [00:02<00:00, 16.09it/s]\n"
     ]
    },
    {
     "name": "stdout",
     "output_type": "stream",
     "text": [
      "Loss train 0.3611973524093628 valid 0.20741750597953795\n",
      "EPOCH 17: \n",
      "recon_err: 0.14380988068118386\n",
      "perlexity: 27.178803132504832\n",
      "\n"
     ]
    },
    {
     "name": "stderr",
     "output_type": "stream",
     "text": [
      "100%|███████████████████████████████████████████| 40/40 [00:02<00:00, 16.16it/s]\n"
     ]
    },
    {
     "name": "stdout",
     "output_type": "stream",
     "text": [
      "Loss train 0.3281002640724182 valid 0.2017235927283764\n",
      "EPOCH 18: \n",
      "recon_err: 0.13929607954864598\n",
      "perlexity: 28.706766907049683\n",
      "\n"
     ]
    },
    {
     "name": "stderr",
     "output_type": "stream",
     "text": [
      "100%|███████████████████████████████████████████| 40/40 [00:02<00:00, 16.18it/s]\n"
     ]
    },
    {
     "name": "stdout",
     "output_type": "stream",
     "text": [
      "Loss train 0.32331404089927673 valid 0.19333783611655236\n",
      "EPOCH 19: \n",
      "recon_err: 0.13362210354178536\n",
      "perlexity: 30.166267171198008\n",
      "\n"
     ]
    },
    {
     "name": "stderr",
     "output_type": "stream",
     "text": [
      "100%|███████████████████████████████████████████| 40/40 [00:02<00:00, 16.09it/s]\n"
     ]
    },
    {
     "name": "stdout",
     "output_type": "stream",
     "text": [
      "Loss train 0.33236104249954224 valid 0.18788788542151452\n",
      "EPOCH 20: \n",
      "recon_err: 0.12997088174582744\n",
      "perlexity: 31.8560192730962\n",
      "\n"
     ]
    },
    {
     "name": "stderr",
     "output_type": "stream",
     "text": [
      "100%|███████████████████████████████████████████| 40/40 [00:02<00:00, 16.17it/s]\n"
     ]
    },
    {
     "name": "stdout",
     "output_type": "stream",
     "text": [
      "Loss train 0.29949796199798584 valid 0.1843010950833559\n",
      "EPOCH 21: \n",
      "recon_err: 0.1256687057641696\n",
      "perlexity: 33.32575521663744\n",
      "\n"
     ]
    },
    {
     "name": "stderr",
     "output_type": "stream",
     "text": [
      "100%|███████████████████████████████████████████| 40/40 [00:02<00:00, 16.18it/s]\n"
     ]
    },
    {
     "name": "stdout",
     "output_type": "stream",
     "text": [
      "Loss train 0.29398858547210693 valid 0.1762712210416794\n",
      "EPOCH 22: \n",
      "recon_err: 0.12194099429310584\n",
      "perlexity: 34.33875825453778\n",
      "\n"
     ]
    },
    {
     "name": "stderr",
     "output_type": "stream",
     "text": [
      "100%|███████████████████████████████████████████| 40/40 [00:02<00:00, 16.11it/s]\n"
     ]
    },
    {
     "name": "stdout",
     "output_type": "stream",
     "text": [
      "Loss train 0.3424675762653351 valid 0.1727560330182314\n",
      "EPOCH 23: \n",
      "recon_err: 0.11909158212341825\n",
      "perlexity: 35.60735319098648\n",
      "\n"
     ]
    },
    {
     "name": "stderr",
     "output_type": "stream",
     "text": [
      "100%|███████████████████████████████████████████| 40/40 [00:02<00:00, 16.19it/s]\n"
     ]
    },
    {
     "name": "stdout",
     "output_type": "stream",
     "text": [
      "Loss train 0.28222978115081787 valid 0.1696486532688141\n",
      "EPOCH 24: \n",
      "recon_err: 0.11574148504557658\n",
      "perlexity: 36.861282737887635\n",
      "\n"
     ]
    },
    {
     "name": "stderr",
     "output_type": "stream",
     "text": [
      "100%|███████████████████████████████████████████| 40/40 [00:02<00:00, 16.18it/s]\n"
     ]
    },
    {
     "name": "stdout",
     "output_type": "stream",
     "text": [
      "Loss train 0.2822743356227875 valid 0.1638423938304186\n",
      "EPOCH 25: \n",
      "recon_err: 0.11367775389582527\n",
      "perlexity: 37.789602902470804\n",
      "\n"
     ]
    },
    {
     "name": "stderr",
     "output_type": "stream",
     "text": [
      "100%|███████████████████████████████████████████| 40/40 [00:02<00:00, 16.09it/s]\n"
     ]
    },
    {
     "name": "stdout",
     "output_type": "stream",
     "text": [
      "Loss train 0.27117839455604553 valid 0.160641548037529\n",
      "EPOCH 26: \n",
      "recon_err: 0.11167458277575824\n",
      "perlexity: 39.78649252288196\n",
      "\n"
     ]
    },
    {
     "name": "stderr",
     "output_type": "stream",
     "text": [
      "100%|███████████████████████████████████████████| 40/40 [00:02<00:00, 16.18it/s]\n"
     ]
    },
    {
     "name": "stdout",
     "output_type": "stream",
     "text": [
      "Loss train 0.2557409703731537 valid 0.15481937676668167\n",
      "EPOCH 27: \n",
      "recon_err: 0.10956195498607596\n",
      "perlexity: 41.595417956916656\n",
      "\n"
     ]
    },
    {
     "name": "stderr",
     "output_type": "stream",
     "text": [
      "100%|███████████████████████████████████████████| 40/40 [00:02<00:00, 16.15it/s]\n"
     ]
    },
    {
     "name": "stdout",
     "output_type": "stream",
     "text": [
      "Loss train 0.2503181993961334 valid 0.1499291431158781\n",
      "EPOCH 28: \n",
      "recon_err: 0.10698326323561523\n",
      "perlexity: 43.068072883450256\n",
      "\n"
     ]
    },
    {
     "name": "stderr",
     "output_type": "stream",
     "text": [
      "100%|███████████████████████████████████████████| 40/40 [00:02<00:00, 16.19it/s]\n"
     ]
    },
    {
     "name": "stdout",
     "output_type": "stream",
     "text": [
      "Loss train 0.2407568395137787 valid 0.14543890096247197\n",
      "EPOCH 29: \n",
      "recon_err: 0.10441824216015484\n",
      "perlexity: 43.677078830952546\n",
      "\n"
     ]
    },
    {
     "name": "stderr",
     "output_type": "stream",
     "text": [
      "100%|███████████████████████████████████████████| 40/40 [00:02<00:00, 16.19it/s]\n"
     ]
    },
    {
     "name": "stdout",
     "output_type": "stream",
     "text": [
      "Loss train 0.2512369453907013 valid 0.14425100460648538\n",
      "EPOCH 30: \n",
      "recon_err: 0.10309416728512365\n",
      "perlexity: 45.07125042895881\n",
      "\n"
     ]
    },
    {
     "name": "stderr",
     "output_type": "stream",
     "text": [
      "100%|███████████████████████████████████████████| 40/40 [00:02<00:00, 16.18it/s]\n"
     ]
    },
    {
     "name": "stdout",
     "output_type": "stream",
     "text": [
      "Loss train 0.24612215161323547 valid 0.13946822993457317\n",
      "EPOCH 31: \n",
      "recon_err: 0.10047016433459155\n",
      "perlexity: 46.73307021783323\n",
      "\n"
     ]
    },
    {
     "name": "stderr",
     "output_type": "stream",
     "text": [
      "100%|███████████████████████████████████████████| 40/40 [00:02<00:00, 16.16it/s]\n"
     ]
    },
    {
     "name": "stdout",
     "output_type": "stream",
     "text": [
      "Loss train 0.24063920974731445 valid 0.1367992043495178\n",
      "EPOCH 32: \n",
      "recon_err: 0.09913172975790743\n",
      "perlexity: 47.652195229822276\n",
      "\n"
     ]
    },
    {
     "name": "stderr",
     "output_type": "stream",
     "text": [
      "100%|███████████████████████████████████████████| 40/40 [00:02<00:00, 16.17it/s]\n"
     ]
    },
    {
     "name": "stdout",
     "output_type": "stream",
     "text": [
      "Loss train 0.24140658974647522 valid 0.13879043459892274\n",
      "EPOCH 33: \n",
      "recon_err: 0.09763512885844221\n",
      "perlexity: 49.4329928573297\n",
      "\n"
     ]
    },
    {
     "name": "stderr",
     "output_type": "stream",
     "text": [
      "100%|███████████████████████████████████████████| 40/40 [00:02<00:00, 16.16it/s]\n"
     ]
    },
    {
     "name": "stdout",
     "output_type": "stream",
     "text": [
      "Loss train 0.25283706188201904 valid 0.1391359906643629\n",
      "EPOCH 34: \n",
      "recon_err: 0.09665713398432245\n",
      "perlexity: 51.28025438347641\n",
      "\n"
     ]
    },
    {
     "name": "stderr",
     "output_type": "stream",
     "text": [
      "100%|███████████████████████████████████████████| 40/40 [00:02<00:00, 16.14it/s]\n"
     ]
    },
    {
     "name": "stdout",
     "output_type": "stream",
     "text": [
      "Loss train 0.2463037669658661 valid 0.14296649992465973\n",
      "EPOCH 35: \n",
      "recon_err: 0.09545622625369199\n",
      "perlexity: 53.09502681420774\n",
      "\n"
     ]
    },
    {
     "name": "stderr",
     "output_type": "stream",
     "text": [
      "100%|███████████████████████████████████████████| 40/40 [00:02<00:00, 16.15it/s]\n"
     ]
    },
    {
     "name": "stdout",
     "output_type": "stream",
     "text": [
      "Loss train 0.24627995491027832 valid 0.14348942562937736\n",
      "EPOCH 36: \n",
      "recon_err: 0.09358673941876207\n",
      "perlexity: 55.33501352582659\n",
      "\n"
     ]
    },
    {
     "name": "stderr",
     "output_type": "stream",
     "text": [
      "100%|███████████████████████████████████████████| 40/40 [00:02<00:00, 16.16it/s]\n"
     ]
    },
    {
     "name": "stdout",
     "output_type": "stream",
     "text": [
      "Loss train 0.2407202273607254 valid 0.14814720302820206\n",
      "EPOCH 37: \n",
      "recon_err: 0.09271045644976655\n",
      "perlexity: 56.97356951966577\n",
      "\n"
     ]
    },
    {
     "name": "stderr",
     "output_type": "stream",
     "text": [
      "100%|███████████████████████████████████████████| 40/40 [00:02<00:00, 16.16it/s]\n"
     ]
    },
    {
     "name": "stdout",
     "output_type": "stream",
     "text": [
      "Loss train 0.2364889681339264 valid 0.14944502003490925\n",
      "EPOCH 38: \n",
      "recon_err: 0.09157627798160728\n",
      "perlexity: 58.69794670416384\n",
      "\n"
     ]
    },
    {
     "name": "stderr",
     "output_type": "stream",
     "text": [
      "100%|███████████████████████████████████████████| 40/40 [00:02<00:00, 16.15it/s]\n"
     ]
    },
    {
     "name": "stdout",
     "output_type": "stream",
     "text": [
      "Loss train 0.25250717997550964 valid 0.1536162368953228\n",
      "EPOCH 39: \n",
      "recon_err: 0.08948862643874421\n",
      "perlexity: 59.93532087364975\n",
      "\n"
     ]
    },
    {
     "name": "stderr",
     "output_type": "stream",
     "text": [
      "100%|███████████████████████████████████████████| 40/40 [00:02<00:00, 16.16it/s]\n"
     ]
    },
    {
     "name": "stdout",
     "output_type": "stream",
     "text": [
      "Loss train 0.24802082777023315 valid 0.15617433600127698\n",
      "EPOCH 40: \n",
      "recon_err: 0.08853201522510878\n",
      "perlexity: 61.04748587705651\n",
      "\n"
     ]
    },
    {
     "name": "stderr",
     "output_type": "stream",
     "text": [
      "100%|███████████████████████████████████████████| 40/40 [00:02<00:00, 16.14it/s]\n"
     ]
    },
    {
     "name": "stdout",
     "output_type": "stream",
     "text": [
      "Loss train 0.24870675802230835 valid 0.15725138783454895\n",
      "EPOCH 41: \n",
      "recon_err: 0.08789082472117579\n",
      "perlexity: 62.68854686192104\n",
      "\n"
     ]
    },
    {
     "name": "stderr",
     "output_type": "stream",
     "text": [
      "100%|███████████████████████████████████████████| 40/40 [00:02<00:00, 16.15it/s]\n"
     ]
    },
    {
     "name": "stdout",
     "output_type": "stream",
     "text": [
      "Loss train 0.2620182931423187 valid 0.1610947623848915\n",
      "EPOCH 42: \n",
      "recon_err: 0.08621578477323055\n",
      "perlexity: 63.51846438038106\n",
      "\n"
     ]
    },
    {
     "name": "stderr",
     "output_type": "stream",
     "text": [
      "100%|███████████████████████████████████████████| 40/40 [00:02<00:00, 16.17it/s]\n"
     ]
    },
    {
     "name": "stdout",
     "output_type": "stream",
     "text": [
      "Loss train 0.2573174238204956 valid 0.1604112908244133\n",
      "EPOCH 43: \n",
      "recon_err: 0.0852134351295476\n",
      "perlexity: 63.90727872264628\n",
      "\n"
     ]
    },
    {
     "name": "stderr",
     "output_type": "stream",
     "text": [
      "100%|███████████████████████████████████████████| 40/40 [00:02<00:00, 16.15it/s]\n"
     ]
    },
    {
     "name": "stdout",
     "output_type": "stream",
     "text": [
      "Loss train 0.25247427821159363 valid 0.16124607287347317\n",
      "EPOCH 44: \n",
      "recon_err: 0.08462846678282533\n",
      "perlexity: 64.61209201812744\n",
      "\n"
     ]
    },
    {
     "name": "stderr",
     "output_type": "stream",
     "text": [
      "100%|███████████████████████████████████████████| 40/40 [00:02<00:00, 16.20it/s]\n"
     ]
    },
    {
     "name": "stdout",
     "output_type": "stream",
     "text": [
      "Loss train 0.23855754733085632 valid 0.16235595159232616\n",
      "EPOCH 45: \n",
      "recon_err: 0.08403630357007591\n",
      "perlexity: 65.5487814922722\n",
      "\n"
     ]
    },
    {
     "name": "stderr",
     "output_type": "stream",
     "text": [
      "100%|███████████████████████████████████████████| 40/40 [00:02<00:00, 16.16it/s]\n"
     ]
    },
    {
     "name": "stdout",
     "output_type": "stream",
     "text": [
      "Loss train 0.23849281668663025 valid 0.16353023312985898\n",
      "EPOCH 46: \n",
      "recon_err: 0.08273135292894986\n",
      "perlexity: 66.51881517682757\n",
      "\n"
     ]
    },
    {
     "name": "stderr",
     "output_type": "stream",
     "text": [
      "100%|███████████████████████████████████████████| 40/40 [00:02<00:00, 16.16it/s]\n"
     ]
    },
    {
     "name": "stdout",
     "output_type": "stream",
     "text": [
      "Loss train 0.23653748631477356 valid 0.1628161661326885\n",
      "EPOCH 47: \n",
      "recon_err: 0.0819957324740838\n",
      "perlexity: 67.79599380493164\n",
      "\n"
     ]
    },
    {
     "name": "stderr",
     "output_type": "stream",
     "text": [
      "100%|███████████████████████████████████████████| 40/40 [00:02<00:00, 16.15it/s]\n"
     ]
    },
    {
     "name": "stdout",
     "output_type": "stream",
     "text": [
      "Loss train 0.23721462488174438 valid 0.16317676641047002\n",
      "EPOCH 48: \n",
      "recon_err: 0.08140979878300307\n",
      "perlexity: 68.76101310885683\n",
      "\n"
     ]
    },
    {
     "name": "stderr",
     "output_type": "stream",
     "text": [
      "100%|███████████████████████████████████████████| 40/40 [00:02<00:00, 16.13it/s]\n"
     ]
    },
    {
     "name": "stdout",
     "output_type": "stream",
     "text": [
      "Loss train 0.2517695128917694 valid 0.16281695179641248\n",
      "EPOCH 49: \n",
      "recon_err: 0.08062750466015874\n",
      "perlexity: 69.76620296556122\n",
      "\n"
     ]
    },
    {
     "name": "stderr",
     "output_type": "stream",
     "text": [
      "100%|███████████████████████████████████████████| 40/40 [00:02<00:00, 16.12it/s]\n"
     ]
    },
    {
     "name": "stdout",
     "output_type": "stream",
     "text": [
      "Loss train 0.22745732963085175 valid 0.16172585673630238\n",
      "EPOCH 50: \n",
      "recon_err: 0.08020934694427617\n",
      "perlexity: 70.57199338017678\n",
      "\n"
     ]
    },
    {
     "name": "stderr",
     "output_type": "stream",
     "text": [
      "100%|███████████████████████████████████████████| 40/40 [00:02<00:00, 16.15it/s]\n"
     ]
    },
    {
     "name": "stdout",
     "output_type": "stream",
     "text": [
      "Loss train 0.240797758102417 valid 0.15999089144170284\n",
      "EPOCH 51: \n",
      "recon_err: 0.07923782297543117\n",
      "perlexity: 72.2698312486921\n",
      "\n"
     ]
    },
    {
     "name": "stderr",
     "output_type": "stream",
     "text": [
      "100%|███████████████████████████████████████████| 40/40 [00:02<00:00, 15.92it/s]\n"
     ]
    },
    {
     "name": "stdout",
     "output_type": "stream",
     "text": [
      "Loss train 0.2368609607219696 valid 0.16154365688562394\n",
      "EPOCH 52: \n",
      "recon_err: 0.07900317146309785\n",
      "perlexity: 73.271301814488\n",
      "\n"
     ]
    },
    {
     "name": "stderr",
     "output_type": "stream",
     "text": [
      "100%|███████████████████████████████████████████| 40/40 [00:02<00:00, 15.87it/s]\n"
     ]
    },
    {
     "name": "stdout",
     "output_type": "stream",
     "text": [
      "Loss train 0.24155950546264648 valid 0.1581739377230406\n",
      "EPOCH 53: \n",
      "recon_err: 0.07869303082020915\n",
      "perlexity: 74.25740631259218\n",
      "\n"
     ]
    },
    {
     "name": "stderr",
     "output_type": "stream",
     "text": [
      "100%|███████████████████████████████████████████| 40/40 [00:02<00:00, 16.07it/s]\n"
     ]
    },
    {
     "name": "stdout",
     "output_type": "stream",
     "text": [
      "Loss train 0.2265581637620926 valid 0.1597277045249939\n",
      "EPOCH 54: \n",
      "recon_err: 0.07779117666032849\n",
      "perlexity: 75.2570908604836\n",
      "\n"
     ]
    },
    {
     "name": "stderr",
     "output_type": "stream",
     "text": [
      "100%|███████████████████████████████████████████| 40/40 [00:02<00:00, 16.13it/s]\n"
     ]
    },
    {
     "name": "stdout",
     "output_type": "stream",
     "text": [
      "Loss train 0.23458129167556763 valid 0.15743484832346438\n",
      "EPOCH 55: \n",
      "recon_err: 0.07737127144117745\n",
      "perlexity: 76.01793075094417\n",
      "\n"
     ]
    },
    {
     "name": "stderr",
     "output_type": "stream",
     "text": [
      "100%|███████████████████████████████████████████| 40/40 [00:02<00:00, 16.15it/s]\n"
     ]
    },
    {
     "name": "stdout",
     "output_type": "stream",
     "text": [
      "Loss train 0.2389255315065384 valid 0.15810634642839433\n",
      "EPOCH 56: \n",
      "recon_err: 0.07716147069420133\n",
      "perlexity: 76.80944096312231\n",
      "\n"
     ]
    },
    {
     "name": "stderr",
     "output_type": "stream",
     "text": [
      "100%|███████████████████████████████████████████| 40/40 [00:02<00:00, 16.12it/s]\n"
     ]
    },
    {
     "name": "stdout",
     "output_type": "stream",
     "text": [
      "Loss train 0.23616164922714233 valid 0.1573964271694422\n",
      "EPOCH 57: \n",
      "recon_err: 0.07623516011755077\n",
      "perlexity: 77.71958973942971\n",
      "\n"
     ]
    },
    {
     "name": "stderr",
     "output_type": "stream",
     "text": [
      "100%|███████████████████████████████████████████| 40/40 [00:02<00:00, 16.16it/s]\n"
     ]
    },
    {
     "name": "stdout",
     "output_type": "stream",
     "text": [
      "Loss train 0.23854443430900574 valid 0.15477309077978135\n",
      "EPOCH 58: \n",
      "recon_err: 0.07565874100795814\n",
      "perlexity: 78.57235410262128\n",
      "\n"
     ]
    },
    {
     "name": "stderr",
     "output_type": "stream",
     "text": [
      "100%|███████████████████████████████████████████| 40/40 [00:02<00:00, 16.13it/s]\n"
     ]
    },
    {
     "name": "stdout",
     "output_type": "stream",
     "text": [
      "Loss train 0.2284613847732544 valid 0.15429099053144454\n",
      "EPOCH 59: \n",
      "recon_err: 0.07570206096433864\n",
      "perlexity: 79.40230424063546\n",
      "\n"
     ]
    },
    {
     "name": "stderr",
     "output_type": "stream",
     "text": [
      "100%|███████████████████████████████████████████| 40/40 [00:02<00:00, 16.13it/s]\n"
     ]
    },
    {
     "name": "stdout",
     "output_type": "stream",
     "text": [
      "Loss train 0.2363511323928833 valid 0.1550203874707222\n",
      "EPOCH 60: \n",
      "recon_err: 0.07503669020928899\n",
      "perlexity: 79.53941127232143\n",
      "\n"
     ]
    },
    {
     "name": "stderr",
     "output_type": "stream",
     "text": [
      "100%|███████████████████████████████████████████| 40/40 [00:02<00:00, 16.10it/s]\n"
     ]
    },
    {
     "name": "stdout",
     "output_type": "stream",
     "text": [
      "Loss train 0.2333662211894989 valid 0.1554499313235283\n",
      "EPOCH 61: \n",
      "recon_err: 0.07490452481623815\n",
      "perlexity: 80.78996440342495\n",
      "\n"
     ]
    },
    {
     "name": "stderr",
     "output_type": "stream",
     "text": [
      "100%|███████████████████████████████████████████| 40/40 [00:02<00:00, 16.17it/s]\n"
     ]
    },
    {
     "name": "stdout",
     "output_type": "stream",
     "text": [
      "Loss train 0.23020842671394348 valid 0.1541931513696909\n",
      "EPOCH 62: \n",
      "recon_err: 0.07468059206647533\n",
      "perlexity: 81.02999235659229\n",
      "\n"
     ]
    },
    {
     "name": "stderr",
     "output_type": "stream",
     "text": [
      "100%|███████████████████████████████████████████| 40/40 [00:02<00:00, 16.00it/s]\n"
     ]
    },
    {
     "name": "stdout",
     "output_type": "stream",
     "text": [
      "Loss train 0.21737878024578094 valid 0.15611182898283005\n",
      "EPOCH 63: \n",
      "recon_err: 0.07374667079777134\n",
      "perlexity: 82.42806072624363\n",
      "\n"
     ]
    },
    {
     "name": "stderr",
     "output_type": "stream",
     "text": [
      "100%|███████████████████████████████████████████| 40/40 [00:02<00:00, 16.14it/s]\n"
     ]
    },
    {
     "name": "stdout",
     "output_type": "stream",
     "text": [
      "Loss train 0.24155203998088837 valid 0.1554445967078209\n",
      "EPOCH 64: \n",
      "recon_err: 0.07353500139956572\n",
      "perlexity: 83.40670943746761\n",
      "\n"
     ]
    },
    {
     "name": "stderr",
     "output_type": "stream",
     "text": [
      "100%|███████████████████████████████████████████| 40/40 [00:02<00:00, 16.06it/s]\n"
     ]
    },
    {
     "name": "stdout",
     "output_type": "stream",
     "text": [
      "Loss train 0.23889854550361633 valid 0.15732915475964546\n",
      "EPOCH 65: \n",
      "recon_err: 0.073373195696242\n",
      "perlexity: 84.20389257158551\n",
      "\n"
     ]
    },
    {
     "name": "stderr",
     "output_type": "stream",
     "text": [
      "100%|███████████████████████████████████████████| 40/40 [00:02<00:00, 16.13it/s]\n"
     ]
    },
    {
     "name": "stdout",
     "output_type": "stream",
     "text": [
      "Loss train 0.23174618184566498 valid 0.15544423535466195\n",
      "EPOCH 66: \n",
      "recon_err: 0.07263331096239235\n",
      "perlexity: 84.74345872840102\n",
      "\n"
     ]
    },
    {
     "name": "stderr",
     "output_type": "stream",
     "text": [
      "100%|███████████████████████████████████████████| 40/40 [00:02<00:00, 16.15it/s]\n"
     ]
    },
    {
     "name": "stdout",
     "output_type": "stream",
     "text": [
      "Loss train 0.22748059034347534 valid 0.15732384733855725\n",
      "EPOCH 67: \n",
      "recon_err: 0.07239285004990441\n",
      "perlexity: 85.63817911731954\n",
      "\n"
     ]
    },
    {
     "name": "stderr",
     "output_type": "stream",
     "text": [
      "100%|███████████████████████████████████████████| 40/40 [00:02<00:00, 16.11it/s]\n"
     ]
    },
    {
     "name": "stdout",
     "output_type": "stream",
     "text": [
      "Loss train 0.2298772633075714 valid 0.15587855726480485\n",
      "EPOCH 68: \n",
      "recon_err: 0.07171327309036742\n",
      "perlexity: 86.30582011475855\n",
      "\n"
     ]
    },
    {
     "name": "stderr",
     "output_type": "stream",
     "text": [
      "100%|███████████████████████████████████████████| 40/40 [00:02<00:00, 16.13it/s]\n"
     ]
    },
    {
     "name": "stdout",
     "output_type": "stream",
     "text": [
      "Loss train 0.21777035295963287 valid 0.15384714715182782\n",
      "EPOCH 69: \n",
      "recon_err: 0.07195774100872936\n",
      "perlexity: 87.70565468924386\n",
      "\n"
     ]
    },
    {
     "name": "stderr",
     "output_type": "stream",
     "text": [
      "100%|███████████████████████████████████████████| 40/40 [00:02<00:00, 16.10it/s]\n"
     ]
    },
    {
     "name": "stdout",
     "output_type": "stream",
     "text": [
      "Loss train 0.25319308042526245 valid 0.1538886208087206\n",
      "EPOCH 70: \n",
      "recon_err: 0.07119727917775816\n",
      "perlexity: 88.64678223279057\n",
      "\n"
     ]
    },
    {
     "name": "stderr",
     "output_type": "stream",
     "text": [
      "100%|███████████████████████████████████████████| 40/40 [00:02<00:00, 16.10it/s]\n"
     ]
    },
    {
     "name": "stdout",
     "output_type": "stream",
     "text": [
      "Loss train 0.24117273092269897 valid 0.1520442120730877\n",
      "EPOCH 71: \n",
      "recon_err: 0.0708370532992543\n",
      "perlexity: 89.30907759374502\n",
      "\n"
     ]
    },
    {
     "name": "stderr",
     "output_type": "stream",
     "text": [
      "100%|███████████████████████████████████████████| 40/40 [00:02<00:00, 16.11it/s]\n"
     ]
    },
    {
     "name": "stdout",
     "output_type": "stream",
     "text": [
      "Loss train 0.22087222337722778 valid 0.1512833323329687\n",
      "EPOCH 72: \n",
      "recon_err: 0.07082100269593755\n",
      "perlexity: 89.65240404557208\n",
      "\n"
     ]
    },
    {
     "name": "stderr",
     "output_type": "stream",
     "text": [
      "100%|███████████████████████████████████████████| 40/40 [00:02<00:00, 16.13it/s]\n"
     ]
    },
    {
     "name": "stdout",
     "output_type": "stream",
     "text": [
      "Loss train 0.21291238069534302 valid 0.15350381396710872\n",
      "EPOCH 73: \n",
      "recon_err: 0.07029669990344924\n",
      "perlexity: 91.27651623317173\n",
      "\n"
     ]
    },
    {
     "name": "stderr",
     "output_type": "stream",
     "text": [
      "100%|███████████████████████████████████████████| 40/40 [00:02<00:00, 16.12it/s]\n"
     ]
    },
    {
     "name": "stdout",
     "output_type": "stream",
     "text": [
      "Loss train 0.24509462714195251 valid 0.15024483762681484\n",
      "EPOCH 74: \n",
      "recon_err: 0.07004216723904318\n",
      "perlexity: 92.64336352445642\n",
      "\n"
     ]
    },
    {
     "name": "stderr",
     "output_type": "stream",
     "text": [
      "100%|███████████████████████████████████████████| 40/40 [00:02<00:00, 16.11it/s]\n"
     ]
    },
    {
     "name": "stdout",
     "output_type": "stream",
     "text": [
      "Loss train 0.22905173897743225 valid 0.14961879141628742\n",
      "EPOCH 75: \n",
      "recon_err: 0.06999104603060655\n",
      "perlexity: 93.71796222608917\n",
      "\n"
     ]
    },
    {
     "name": "stderr",
     "output_type": "stream",
     "text": [
      "100%|███████████████████████████████████████████| 40/40 [00:02<00:00, 16.14it/s]\n"
     ]
    },
    {
     "name": "stdout",
     "output_type": "stream",
     "text": [
      "Loss train 0.21494930982589722 valid 0.14819588959217073\n",
      "EPOCH 76: \n",
      "recon_err: 0.06943523800190614\n",
      "perlexity: 94.57206761107153\n",
      "\n"
     ]
    },
    {
     "name": "stderr",
     "output_type": "stream",
     "text": [
      "100%|███████████████████████████████████████████| 40/40 [00:02<00:00, 16.06it/s]\n"
     ]
    },
    {
     "name": "stdout",
     "output_type": "stream",
     "text": [
      "Loss train 0.2438509166240692 valid 0.14897983334958553\n",
      "EPOCH 77: \n",
      "recon_err: 0.06904770709498197\n",
      "perlexity: 95.31602587018695\n",
      "\n"
     ]
    },
    {
     "name": "stderr",
     "output_type": "stream",
     "text": [
      "100%|███████████████████████████████████████████| 40/40 [00:02<00:00, 16.09it/s]\n"
     ]
    },
    {
     "name": "stdout",
     "output_type": "stream",
     "text": [
      "Loss train 0.22273829579353333 valid 0.14679191038012504\n",
      "EPOCH 78: \n",
      "recon_err: 0.06897497078289791\n",
      "perlexity: 95.98395694032007\n",
      "\n"
     ]
    },
    {
     "name": "stderr",
     "output_type": "stream",
     "text": [
      "100%|███████████████████████████████████████████| 40/40 [00:02<00:00, 16.10it/s]\n"
     ]
    },
    {
     "name": "stdout",
     "output_type": "stream",
     "text": [
      "Loss train 0.22687095403671265 valid 0.14647001661360265\n",
      "EPOCH 79: \n",
      "recon_err: 0.06891920736857823\n",
      "perlexity: 96.85362375998983\n",
      "\n"
     ]
    },
    {
     "name": "stderr",
     "output_type": "stream",
     "text": [
      "100%|███████████████████████████████████████████| 40/40 [00:02<00:00, 16.12it/s]\n"
     ]
    },
    {
     "name": "stdout",
     "output_type": "stream",
     "text": [
      "Loss train 0.2213263213634491 valid 0.1476894747465849\n",
      "EPOCH 80: \n",
      "recon_err: 0.06858407333493233\n",
      "perlexity: 97.69612456341179\n",
      "\n"
     ]
    },
    {
     "name": "stderr",
     "output_type": "stream",
     "text": [
      "100%|███████████████████████████████████████████| 40/40 [00:02<00:00, 16.14it/s]\n"
     ]
    },
    {
     "name": "stdout",
     "output_type": "stream",
     "text": [
      "Loss train 0.21597576141357422 valid 0.1454237185418606\n",
      "EPOCH 81: \n",
      "recon_err: 0.06817887012599683\n",
      "perlexity: 97.68534162093182\n",
      "\n"
     ]
    },
    {
     "name": "stderr",
     "output_type": "stream",
     "text": [
      "100%|███████████████████████████████████████████| 40/40 [00:02<00:00, 16.15it/s]\n"
     ]
    },
    {
     "name": "stdout",
     "output_type": "stream",
     "text": [
      "Loss train 0.20602619647979736 valid 0.14590137228369712\n",
      "EPOCH 82: \n",
      "recon_err: 0.06847423092671195\n",
      "perlexity: 98.53202052992218\n",
      "\n"
     ]
    },
    {
     "name": "stderr",
     "output_type": "stream",
     "text": [
      "100%|███████████████████████████████████████████| 40/40 [00:02<00:00, 16.09it/s]\n"
     ]
    },
    {
     "name": "stdout",
     "output_type": "stream",
     "text": [
      "Loss train 0.2189176082611084 valid 0.14403276294469833\n",
      "EPOCH 83: \n",
      "recon_err: 0.06762591897681051\n",
      "perlexity: 99.36572234484615\n",
      "\n"
     ]
    },
    {
     "name": "stderr",
     "output_type": "stream",
     "text": [
      "100%|███████████████████████████████████████████| 40/40 [00:02<00:00, 16.12it/s]\n"
     ]
    },
    {
     "name": "stdout",
     "output_type": "stream",
     "text": [
      "Loss train 0.20528048276901245 valid 0.14437482543289662\n",
      "EPOCH 84: \n",
      "recon_err: 0.06772304299686636\n",
      "perlexity: 99.88107299804688\n",
      "\n"
     ]
    },
    {
     "name": "stderr",
     "output_type": "stream",
     "text": [
      "100%|███████████████████████████████████████████| 40/40 [00:02<00:00, 16.15it/s]\n"
     ]
    },
    {
     "name": "stdout",
     "output_type": "stream",
     "text": [
      "Loss train 0.21803215146064758 valid 0.14349380247294902\n",
      "EPOCH 85: \n",
      "recon_err: 0.0674652472632576\n",
      "perlexity: 100.19258090427944\n",
      "\n"
     ]
    },
    {
     "name": "stderr",
     "output_type": "stream",
     "text": [
      "100%|███████████████████████████████████████████| 40/40 [00:02<00:00, 16.10it/s]\n"
     ]
    },
    {
     "name": "stdout",
     "output_type": "stream",
     "text": [
      "Loss train 0.21272101998329163 valid 0.14378351606428624\n",
      "EPOCH 86: \n",
      "recon_err: 0.06762526762120578\n",
      "perlexity: 100.90657821966677\n",
      "\n"
     ]
    },
    {
     "name": "stderr",
     "output_type": "stream",
     "text": [
      "100%|███████████████████████████████████████████| 40/40 [00:02<00:00, 16.10it/s]\n"
     ]
    },
    {
     "name": "stdout",
     "output_type": "stream",
     "text": [
      "Loss train 0.21309006214141846 valid 0.14082944206893444\n",
      "EPOCH 87: \n",
      "recon_err: 0.06760564927315833\n",
      "perlexity: 100.80658095223563\n",
      "\n"
     ]
    },
    {
     "name": "stderr",
     "output_type": "stream",
     "text": [
      "100%|███████████████████████████████████████████| 40/40 [00:02<00:00, 16.03it/s]\n"
     ]
    },
    {
     "name": "stdout",
     "output_type": "stream",
     "text": [
      "Loss train 0.21486656367778778 valid 0.1441806137561798\n",
      "EPOCH 88: \n",
      "recon_err: 0.06705140375665256\n",
      "perlexity: 100.64408376265546\n",
      "\n"
     ]
    },
    {
     "name": "stderr",
     "output_type": "stream",
     "text": [
      "100%|███████████████████████████████████████████| 40/40 [00:02<00:00, 16.13it/s]\n"
     ]
    },
    {
     "name": "stdout",
     "output_type": "stream",
     "text": [
      "Loss train 0.21450281143188477 valid 0.14138443619012833\n",
      "EPOCH 89: \n",
      "recon_err: 0.06692652153421422\n",
      "perlexity: 100.50304459552376\n",
      "\n"
     ]
    },
    {
     "name": "stderr",
     "output_type": "stream",
     "text": [
      "100%|███████████████████████████████████████████| 40/40 [00:02<00:00, 15.88it/s]\n"
     ]
    },
    {
     "name": "stdout",
     "output_type": "stream",
     "text": [
      "Loss train 0.20973366498947144 valid 0.13918411545455456\n",
      "EPOCH 90: \n",
      "recon_err: 0.06657152145872919\n",
      "perlexity: 100.77317564828056\n",
      "\n"
     ]
    },
    {
     "name": "stderr",
     "output_type": "stream",
     "text": [
      "100%|███████████████████████████████████████████| 40/40 [00:02<00:00, 15.90it/s]\n"
     ]
    },
    {
     "name": "stdout",
     "output_type": "stream",
     "text": [
      "Loss train 0.21171939373016357 valid 0.14286995753645898\n",
      "EPOCH 91: \n",
      "recon_err: 0.06716789508580553\n",
      "perlexity: 101.55504763856226\n",
      "\n"
     ]
    },
    {
     "name": "stderr",
     "output_type": "stream",
     "text": [
      "100%|███████████████████████████████████████████| 40/40 [00:02<00:00, 15.91it/s]\n"
     ]
    },
    {
     "name": "stdout",
     "output_type": "stream",
     "text": [
      "Loss train 0.23837047815322876 valid 0.14261487647891044\n",
      "EPOCH 92: \n",
      "recon_err: 0.06650943649286518\n",
      "perlexity: 101.52019788780991\n",
      "\n"
     ]
    },
    {
     "name": "stderr",
     "output_type": "stream",
     "text": [
      "100%|███████████████████████████████████████████| 40/40 [00:02<00:00, 15.91it/s]\n"
     ]
    },
    {
     "name": "stdout",
     "output_type": "stream",
     "text": [
      "Loss train 0.20365425944328308 valid 0.14579509682953357\n",
      "EPOCH 93: \n",
      "recon_err: 0.06631812094045537\n",
      "perlexity: 102.23041526638731\n",
      "\n"
     ]
    },
    {
     "name": "stderr",
     "output_type": "stream",
     "text": [
      "100%|███████████████████████████████████████████| 40/40 [00:02<00:00, 15.92it/s]\n"
     ]
    },
    {
     "name": "stdout",
     "output_type": "stream",
     "text": [
      "Loss train 0.2085973620414734 valid 0.14052626490592957\n",
      "EPOCH 94: \n",
      "recon_err: 0.06651766142066644\n",
      "perlexity: 102.2841986052844\n",
      "\n"
     ]
    },
    {
     "name": "stderr",
     "output_type": "stream",
     "text": [
      "100%|███████████████████████████████████████████| 40/40 [00:02<00:00, 15.88it/s]\n"
     ]
    },
    {
     "name": "stdout",
     "output_type": "stream",
     "text": [
      "Loss train 0.22482070326805115 valid 0.14040575474500655\n",
      "EPOCH 95: \n",
      "recon_err: 0.06586159170814315\n",
      "perlexity: 102.87964283690161\n",
      "\n"
     ]
    },
    {
     "name": "stderr",
     "output_type": "stream",
     "text": [
      "100%|███████████████████████████████████████████| 40/40 [00:02<00:00, 15.92it/s]\n"
     ]
    },
    {
     "name": "stdout",
     "output_type": "stream",
     "text": [
      "Loss train 0.19880282878875732 valid 0.14145451188087463\n",
      "EPOCH 96: \n",
      "recon_err: 0.0659227320848375\n",
      "perlexity: 103.2608028723269\n",
      "\n"
     ]
    },
    {
     "name": "stderr",
     "output_type": "stream",
     "text": [
      "100%|███████████████████████████████████████████| 40/40 [00:02<00:00, 15.91it/s]\n"
     ]
    },
    {
     "name": "stdout",
     "output_type": "stream",
     "text": [
      "Loss train 0.2041151076555252 valid 0.14131585657596588\n",
      "EPOCH 97: \n",
      "recon_err: 0.0659954388796979\n",
      "perlexity: 103.14615514327069\n",
      "\n"
     ]
    },
    {
     "name": "stderr",
     "output_type": "stream",
     "text": [
      "100%|███████████████████████████████████████████| 40/40 [00:02<00:00, 15.88it/s]\n"
     ]
    },
    {
     "name": "stdout",
     "output_type": "stream",
     "text": [
      "Loss train 0.215729221701622 valid 0.14095633886754513\n",
      "EPOCH 98: \n",
      "recon_err: 0.06589307656929809\n",
      "perlexity: 104.01108733975157\n",
      "\n"
     ]
    },
    {
     "name": "stderr",
     "output_type": "stream",
     "text": [
      "100%|███████████████████████████████████████████| 40/40 [00:02<00:00, 15.65it/s]\n"
     ]
    },
    {
     "name": "stdout",
     "output_type": "stream",
     "text": [
      "Loss train 0.2187214344739914 valid 0.13665806837379932\n",
      "EPOCH 99: \n",
      "recon_err: 0.06545800459096018\n",
      "perlexity: 103.96788328521106\n",
      "\n"
     ]
    },
    {
     "name": "stderr",
     "output_type": "stream",
     "text": [
      "100%|███████████████████████████████████████████| 40/40 [00:02<00:00, 15.88it/s]\n"
     ]
    },
    {
     "name": "stdout",
     "output_type": "stream",
     "text": [
      "Loss train 0.216081440448761 valid 0.1405224312096834\n",
      "EPOCH 100: \n",
      "recon_err: 0.06519342624411291\n",
      "perlexity: 103.92003530385543\n",
      "\n"
     ]
    },
    {
     "name": "stderr",
     "output_type": "stream",
     "text": [
      "100%|███████████████████████████████████████████| 40/40 [00:02<00:00, 15.90it/s]"
     ]
    },
    {
     "name": "stdout",
     "output_type": "stream",
     "text": [
      "Loss train 0.20447757840156555 valid 0.13755180798470973\n"
     ]
    },
    {
     "name": "stderr",
     "output_type": "stream",
     "text": [
      "\n"
     ]
    }
   ],
   "source": [
    "# Real training happens at this cell \n",
    "from datetime import datetime\n",
    "from torch.utils.tensorboard import SummaryWriter\n",
    "\n",
    "timestamp = datetime.now().strftime('%Y%m%d_%H%M%S')\n",
    "writer = SummaryWriter('runs/fashion_trainer_{}'.format(timestamp))\n",
    "\n",
    "best_vloss = 1_000_000\n",
    "\n",
    "for epoch in range(epochs):\n",
    "    model.train(True)\n",
    "\n",
    "    train_loss = train_epoch(epoch + 1, writer)\n",
    "\n",
    "    model.eval()\n",
    "\n",
    "    running_vloss = 0.0\n",
    "    with torch.no_grad():\n",
    "        for batch_idx, (x, _) in enumerate(tqdm(test_loader)):\n",
    "            x = x.to(device)\n",
    "            loss, _, _ = model(x)\n",
    "\n",
    "            running_vloss += loss.item()\n",
    "    avg_vloss = running_vloss / (batch_idx + 1) \n",
    "\n",
    "    print(f'Loss train {train_loss} valid {avg_vloss}')\n",
    "\n",
    "    if avg_vloss < best_vloss:\n",
    "        best_vloss = avg_vloss \n",
    "        model_path = f'models/model_{timestamp}_{epoch}' \n",
    "        torch.save(model.state_dict(), model_path)            "
   ]
  },
  {
   "cell_type": "code",
   "execution_count": 15,
   "id": "0cbd79d6-129b-45bb-be3b-ebba8da3da5e",
   "metadata": {},
   "outputs": [
    {
     "data": {
      "text/plain": [
       "Text(0.5, 0, 'iteration')"
      ]
     },
     "execution_count": 15,
     "metadata": {},
     "output_type": "execute_result"
    },
    {
     "data": {
      "image/png": "[encoded data removed]",
      "text/plain": [
       "<Figure size 1600x800 with 2 Axes>"
      ]
     },
     "metadata": {},
     "output_type": "display_data"
    }
   ],
   "source": [
    "# show the recon_loss and perplexity plot \n",
    "train_recon_err_smooth = savgol_filter(global_recon_errs, 201, 7)\n",
    "train_perplexity_smooth = savgol_filter(global_perplexities, 201, 7)\n",
    "\n",
    "f = plt.figure(figsize=(16,8))\n",
    "ax = f.add_subplot(1,2,1)\n",
    "ax.plot(train_recon_err_smooth)\n",
    "ax.set_yscale('log')\n",
    "ax.set_title('Smoothed NMSE.')\n",
    "ax.set_xlabel('iteration')\n",
    "\n",
    "ax = f.add_subplot(1,2,2)\n",
    "ax.plot(train_perplexity_smooth)\n",
    "ax.set_title('Smoothed Average codebook usage (perplexity).')\n",
    "ax.set_xlabel('iteration')"
   ]
  },
  {
   "cell_type": "code",
   "execution_count": 16,
   "id": "d1f9c13a-b686-40db-82a0-c18ba1bd42b0",
   "metadata": {},
   "outputs": [],
   "source": [
    "def show(img): \n",
    "    npimg = img.numpy()\n",
    "    fig = plt.imshow(np.transpose(npimg, (1,2,0)), interpolation='nearest')\n",
    "    fig.axes.get_xaxis().set_visible(False)\n",
    "    fig.axes.get_yaxis().set_visible(False)"
   ]
  },
  {
   "cell_type": "code",
   "execution_count": 25,
   "id": "3760b896-a652-4857-ae59-a292a7f93557",
   "metadata": {},
   "outputs": [],
   "source": [
    "# use VQ-VAE to generate samples from test dataset \n",
    "model.eval()\n",
    "\n",
    "(test_originals, _) = next(iter(test_loader))\n",
    "test_originals = test_originals.to(device)\n",
    "\n",
    "_, test_reconstruction, _ = model(test_originals)"
   ]
  },
  {
   "cell_type": "code",
   "execution_count": 26,
   "id": "50cbd5fb-7845-4017-aee7-a6c6a5ca5616",
   "metadata": {},
   "outputs": [
    {
     "data": {
      "image/png": "[encoded data removed]",
      "text/plain": [
       "<Figure size 640x480 with 1 Axes>"
      ]
     },
     "metadata": {},
     "output_type": "display_data"
    }
   ],
   "source": [
    "show(make_grid(test_originals.cpu()+0.5))"
   ]
  },
  {
   "cell_type": "code",
   "execution_count": 27,
   "id": "1cb439c0-0d41-4666-9788-a0625a881934",
   "metadata": {},
   "outputs": [
    {
     "name": "stderr",
     "output_type": "stream",
     "text": [
      "Clipping input data to the valid range for imshow with RGB data ([0..1] for floats or [0..255] for integers). Got range [-0.05158043..1.5056666].\n"
     ]
    },
    {
     "data": {
      "image/png": "[encoded data removed]",
      "text/plain": [
       "<Figure size 640x480 with 1 Axes>"
      ]
     },
     "metadata": {},
     "output_type": "display_data"
    }
   ],
   "source": [
    "show(make_grid(test_reconstruction.cpu().data)+0.5,)"
   ]
  },
  {
   "cell_type": "code",
   "execution_count": null,
   "id": "6c98cf36-328e-4df5-bc2f-b2006be0a00f",
   "metadata": {},
   "outputs": [],
   "source": []
  }
 ],
 "metadata": {
  "kernelspec": {
   "display_name": "Python 3 (ipykernel)",
   "language": "python",
   "name": "python3"
  },
  "language_info": {
   "codemirror_mode": {
    "name": "ipython",
    "version": 3
   },
   "file_extension": ".py",
   "mimetype": "text/x-python",
   "name": "python",
   "nbconvert_exporter": "python",
   "pygments_lexer": "ipython3",
   "version": "3.11.10"
  }
 },
 "nbformat": 4,
 "nbformat_minor": 5
}
